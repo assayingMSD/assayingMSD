{
  "cells": [
    {
      "cell_type": "markdown",
      "metadata": {
        "id": "MRAGrKy9ETJc",
        "outputId": "f9bcead7-b7a1-454d-a37e-55a464cad569"
      },
      "source": [
        "### Part of EECS 6893 - Big Data Analytics - Fall 2021 - Final Project \n",
        "\n",
        "* Group ID:- 202112-53\n",
        "* Title:- Assaying MSD\n",
        "* Contributors:- Karpagam Murugappan; Arya Kasulla\n",
        "\n",
        "Year Prediction using MLP Classifier"
      ]
    },
    {
      "cell_type": "code",
      "execution_count": 2,
      "metadata": {
        "id": "w5rqaHKjEYma"
      },
      "outputs": [],
      "source": [
        "import os\n",
        "from pyspark import SparkConf                                                                                                                 \n",
        "from pyspark.context import SparkContext                                                                                                      \n",
        "from pyspark.sql import SparkSession, SQLContext\n",
        "from pyspark import *\n",
        "from pyspark.sql import *\n",
        "import pandas as pd\n",
        "import numpy as np\n",
        "from pyspark.ml.classification import MultilayerPerceptronClassifier\n",
        "from pyspark.ml.evaluation import MulticlassClassificationEvaluator\n",
        "import matplotlib.pyplot as plt\n",
        "\n",
        "plt.rcParams['font.size']= 15"
      ]
    },
    {
      "cell_type": "code",
      "execution_count": 3,
      "metadata": {
        "id": "yEz-QxahEd_V"
      },
      "outputs": [],
      "source": [
        "'''\n",
        "Create spark context and session\n",
        "'''\n",
        "sc = SparkContext('local')\n",
        "spark = SparkSession(sc)"
      ]
    },
    {
      "cell_type": "markdown",
      "metadata": {
        "id": "wRjptJwoIed8"
      },
      "source": [
        "#### 90 input features"
      ]
    },
    {
      "cell_type": "code",
      "execution_count": 4,
      "metadata": {
        "id": "09WEypUyEjVi"
      },
      "outputs": [],
      "source": [
        "'''\n",
        "Read the input in LibSVM format - same format as required by regression model\n",
        "'''\n",
        "dataset = spark.read.format(\"libsvm\").load(os.getcwd()+'/data/reg_data_90_features.txt')"
      ]
    },
    {
      "cell_type": "code",
      "execution_count": 5,
      "metadata": {
        "id": "ToKe0-Q7Emx6"
      },
      "outputs": [],
      "source": [
        "'''\n",
        "80% Training : 20% Testing split; random seed 100\n",
        "'''\n",
        "train, test = dataset.randomSplit([0.8, 0.2], seed = 100)"
      ]
    },
    {
      "cell_type": "code",
      "execution_count": 6,
      "metadata": {
        "id": "JkWkalV7Eqp4"
      },
      "outputs": [],
      "source": [
        "'''\n",
        "Input - 90 units\n",
        "Hidden1 - 180 units\n",
        "Output - 89 units\n",
        "block size 128\n",
        "seed 1234\n",
        "iterations 100\n",
        "'''\n",
        "layers = [90,180,89]\n",
        "trainer = MultilayerPerceptronClassifier(maxIter=100, layers=layers, blockSize=128, seed=1234)"
      ]
    },
    {
      "cell_type": "code",
      "execution_count": 7,
      "metadata": {
        "id": "QZS_FsVgEzrt"
      },
      "outputs": [],
      "source": [
        "'''\n",
        "Fit the model with training data\n",
        "'''\n",
        "model = trainer.fit(train)"
      ]
    },
    {
      "cell_type": "code",
      "execution_count": 8,
      "metadata": {
        "colab": {
          "base_uri": "https://localhost:8080/"
        },
        "id": "RNE1ZdheE4Zy",
        "outputId": "d9531c08-5aa8-47b1-bf1f-0f8471c6ad26"
      },
      "outputs": [
        {
          "output_type": "stream",
          "name": "stdout",
          "text": [
            "Test set accuracy = 0.07671065635718853\n"
          ]
        }
      ],
      "source": [
        "#Testing\n",
        "result = model.transform(test)\n",
        "predictionAndLabels = result.select(\"prediction\", \"label\")\n",
        "evaluator = MulticlassClassificationEvaluator(metricName=\"accuracy\")\n",
        "print(\"Test set accuracy = \" + str(evaluator.evaluate(predictionAndLabels)))\n"
      ]
    },
    {
      "cell_type": "code",
      "execution_count": 9,
      "metadata": {
        "id": "tmJsQEpuIed_"
      },
      "outputs": [],
      "source": [
        "'''\n",
        "Input - 90 units\n",
        "Hidden1 - 100 units\n",
        "Hidden2 - 180 units\n",
        "Hidden3 - 100 units\n",
        "Output - 89 units\n",
        "block size 128\n",
        "seed 445\n",
        "iterations 100\n",
        "'''\n",
        "layers = [90,100,180,100,89]\n",
        "trainer = MultilayerPerceptronClassifier(maxIter=100, layers=layers, blockSize=128, seed=445)"
      ]
    },
    {
      "cell_type": "code",
      "execution_count": 10,
      "metadata": {
        "id": "80X1pqn_IeeA"
      },
      "outputs": [],
      "source": [
        "'''\n",
        "Fit the model with training data\n",
        "'''\n",
        "model = trainer.fit(train)"
      ]
    },
    {
      "cell_type": "code",
      "execution_count": 11,
      "metadata": {
        "colab": {
          "base_uri": "https://localhost:8080/"
        },
        "id": "WuvQKvYlIeeA",
        "outputId": "770c0378-225c-4e1e-fd48-85916165cffe"
      },
      "outputs": [
        {
          "output_type": "stream",
          "name": "stdout",
          "text": [
            "Test set accuracy = 0.07856132395403367\n"
          ]
        }
      ],
      "source": [
        "#Testing\n",
        "result = model.transform(test)\n",
        "predictionAndLabels = result.select(\"prediction\", \"label\")\n",
        "evaluator = MulticlassClassificationEvaluator(metricName=\"accuracy\")\n",
        "print(\"Test set accuracy = \" + str(evaluator.evaluate(predictionAndLabels)))\n"
      ]
    },
    {
      "cell_type": "markdown",
      "metadata": {
        "id": "mA17FcLBIeeA"
      },
      "source": [
        "#### 12 input features"
      ]
    },
    {
      "cell_type": "code",
      "execution_count": 12,
      "metadata": {
        "id": "eCSVkJf2E5HH"
      },
      "outputs": [],
      "source": [
        "'''\n",
        "Read the input in LibSVM format - same format as required by regression model\n",
        "'''\n",
        "dataset = spark.read.format(\"libsvm\").load(os.getcwd()+'/data/reg_data_12_features.txt')"
      ]
    },
    {
      "cell_type": "code",
      "execution_count": 13,
      "metadata": {
        "id": "ajVwBe5fE-XB"
      },
      "outputs": [],
      "source": [
        "'''\n",
        "80% Training : 20% Testing split; random seed 987\n",
        "'''\n",
        "train, test = dataset.randomSplit([0.8, 0.2], seed = 987)"
      ]
    },
    {
      "cell_type": "code",
      "execution_count": 14,
      "metadata": {
        "id": "_K99Gn4kE_Xs"
      },
      "outputs": [],
      "source": [
        "'''\n",
        "Input - 12 units\n",
        "Hidden1 - 100 units\n",
        "Output - 89 units\n",
        "block size 128\n",
        "seed 223\n",
        "iterations 100\n",
        "'''\n",
        "layers = [12,100,89]\n",
        "trainer = MultilayerPerceptronClassifier(maxIter=100, layers=layers, blockSize=128, seed=223)"
      ]
    },
    {
      "cell_type": "code",
      "execution_count": 15,
      "metadata": {
        "id": "yalSpe8tFDlH"
      },
      "outputs": [],
      "source": [
        "'''\n",
        "Fit the model with training data\n",
        "'''\n",
        "model = trainer.fit(train)"
      ]
    },
    {
      "cell_type": "code",
      "execution_count": 16,
      "metadata": {
        "colab": {
          "base_uri": "https://localhost:8080/"
        },
        "id": "Dz_llMIIFFSv",
        "outputId": "d3aac3ce-e858-4180-ea8f-484f03218446"
      },
      "outputs": [
        {
          "output_type": "stream",
          "name": "stdout",
          "text": [
            "Test set accuracy = 0.07913108672580159\n"
          ]
        }
      ],
      "source": [
        "#Testing\n",
        "result = model.transform(test)\n",
        "predictionAndLabels = result.select(\"prediction\", \"label\")\n",
        "evaluator = MulticlassClassificationEvaluator(metricName=\"accuracy\")\n",
        "print(\"Test set accuracy = \" + str(evaluator.evaluate(predictionAndLabels)))\n"
      ]
    },
    {
      "cell_type": "code",
      "execution_count": 17,
      "metadata": {
        "colab": {
          "base_uri": "https://localhost:8080/"
        },
        "id": "eXAE4BJsOHos",
        "outputId": "a01bfd19-7df0-4d54-86b3-5a1981153255"
      },
      "outputs": [
        {
          "output_type": "stream",
          "name": "stdout",
          "text": [
            "Log loss: 3.334881019367738\n"
          ]
        }
      ],
      "source": [
        "tmp = MulticlassClassificationEvaluator(metricName='logLoss')\n",
        "fpr_0 = tmp.evaluate(result)\n",
        "print(\"Log loss: \"+str(fpr_0))"
      ]
    },
    {
      "cell_type": "code",
      "execution_count": 18,
      "metadata": {
        "colab": {
          "base_uri": "https://localhost:8080/"
        },
        "id": "g1lzNxuDrHG-",
        "outputId": "31fc37a4-2cdf-4539-a8c5-22944cec79bc"
      },
      "outputs": [
        {
          "output_type": "stream",
          "name": "stdout",
          "text": [
            "F1 score: 0.0514995597366196\n"
          ]
        }
      ],
      "source": [
        "tmp = MulticlassClassificationEvaluator(metricName='f1')\n",
        "fpr_0 = tmp.evaluate(result)\n",
        "print(\"F1 score: \"+str(fpr_0))"
      ]
    },
    {
      "cell_type": "code",
      "execution_count": 19,
      "metadata": {
        "colab": {
          "base_uri": "https://localhost:8080/"
        },
        "id": "Uh-jLIm-sTz5",
        "outputId": "9bf668cf-603a-49b5-9830-2d763beb6173"
      },
      "outputs": [
        {
          "output_type": "stream",
          "name": "stdout",
          "text": [
            "Weighted Recall: 0.07913108672580157\n"
          ]
        }
      ],
      "source": [
        "tmp = MulticlassClassificationEvaluator(metricName='weightedRecall')\n",
        "fpr_0 = tmp.evaluate(result)\n",
        "print(\"Weighted Recall: \"+str(fpr_0))"
      ]
    },
    {
      "cell_type": "code",
      "execution_count": 20,
      "metadata": {
        "colab": {
          "base_uri": "https://localhost:8080/"
        },
        "id": "evw9I_yrsZBj",
        "outputId": "4aa9fad0-33c2-4686-f671-7dc360a6b2e2"
      },
      "outputs": [
        {
          "output_type": "stream",
          "name": "stdout",
          "text": [
            "weightedPrecision: 0.05939671594106123\n"
          ]
        }
      ],
      "source": [
        "tmp = MulticlassClassificationEvaluator(metricName='weightedPrecision')\n",
        "fpr_0 = tmp.evaluate(result)\n",
        "print(\"weightedPrecision: \"+str(fpr_0))"
      ]
    },
    {
      "cell_type": "code",
      "execution_count": 21,
      "metadata": {
        "colab": {
          "base_uri": "https://localhost:8080/"
        },
        "id": "Q65xq8TqtJze",
        "outputId": "ab1b4aa8-c1c4-4e01-ee3d-eb449f5de466"
      },
      "outputs": [
        {
          "output_type": "stream",
          "name": "stdout",
          "text": [
            "weightedFMeasure: 0.0514995597366196\n"
          ]
        }
      ],
      "source": [
        "tmp = MulticlassClassificationEvaluator(metricName='weightedFMeasure')\n",
        "fpr_0 = tmp.evaluate(result)\n",
        "print(\"weightedFMeasure: \"+str(fpr_0))"
      ]
    },
    {
      "cell_type": "code",
      "execution_count": 22,
      "metadata": {
        "colab": {
          "base_uri": "https://localhost:8080/"
        },
        "id": "idibCrWJtPB7",
        "outputId": "fefe2745-744b-4ac9-d0ff-348ce1eaead2"
      },
      "outputs": [
        {
          "output_type": "stream",
          "name": "stdout",
          "text": [
            "weightedTruePositiveRate: 0.07913108672580157\n"
          ]
        }
      ],
      "source": [
        "tmp = MulticlassClassificationEvaluator(metricName='weightedTruePositiveRate')\n",
        "fpr_0 = tmp.evaluate(result)\n",
        "print(\"weightedTruePositiveRate: \"+str(fpr_0))"
      ]
    },
    {
      "cell_type": "code",
      "execution_count": 23,
      "metadata": {
        "colab": {
          "base_uri": "https://localhost:8080/"
        },
        "id": "XuK9iNLWtRO5",
        "outputId": "7e0f37c9-c2bc-4c1e-f623-53c205726769"
      },
      "outputs": [
        {
          "output_type": "stream",
          "name": "stdout",
          "text": [
            "weightedFalsePositiveRate: 0.06487606435634571\n"
          ]
        }
      ],
      "source": [
        "tmp = MulticlassClassificationEvaluator(metricName='weightedFalsePositiveRate')\n",
        "fpr_0 = tmp.evaluate(result)\n",
        "print(\"weightedFalsePositiveRate: \"+str(fpr_0))"
      ]
    },
    {
      "cell_type": "code",
      "execution_count": 24,
      "metadata": {
        "id": "v_wbHnS6IeeF"
      },
      "outputs": [],
      "source": [
        "'''\n",
        "Input - 12 units\n",
        "Hidden1 - 24 units\n",
        "Hidden1 - 144 units\n",
        "Hidden1 - 100 units\n",
        "Output - 89 units\n",
        "block size 128\n",
        "seed 203\n",
        "iterations 100\n",
        "'''\n",
        "layers = [12,24,144,100,89]\n",
        "trainer = MultilayerPerceptronClassifier(maxIter=100, layers=layers, blockSize=128, seed=203)"
      ]
    },
    {
      "cell_type": "code",
      "execution_count": 25,
      "metadata": {
        "id": "QQvyUGLuIeeF"
      },
      "outputs": [],
      "source": [
        "'''\n",
        "Fit the model with training data\n",
        "'''\n",
        "model = trainer.fit(train)"
      ]
    },
    {
      "cell_type": "code",
      "execution_count": 26,
      "metadata": {
        "colab": {
          "base_uri": "https://localhost:8080/"
        },
        "outputId": "b8e310db-2979-4abb-866b-7357a158be7c",
        "id": "YiRCVzlSIeeF"
      },
      "outputs": [
        {
          "output_type": "stream",
          "name": "stdout",
          "text": [
            "Test set accuracy = 0.07813793170598717\n"
          ]
        }
      ],
      "source": [
        "#Testing\n",
        "result = model.transform(test)\n",
        "predictionAndLabels = result.select(\"prediction\", \"label\")\n",
        "evaluator = MulticlassClassificationEvaluator(metricName=\"accuracy\")\n",
        "print(\"Test set accuracy = \" + str(evaluator.evaluate(predictionAndLabels)))\n"
      ]
    },
    {
      "cell_type": "code",
      "execution_count": 27,
      "metadata": {
        "colab": {
          "base_uri": "https://localhost:8080/"
        },
        "outputId": "5cda2634-7674-4f0a-b36e-08bf804007cb",
        "id": "W7qhOh2KIeeG"
      },
      "outputs": [
        {
          "output_type": "stream",
          "name": "stdout",
          "text": [
            "Log loss: 3.3539402537912277\n"
          ]
        }
      ],
      "source": [
        "tmp = MulticlassClassificationEvaluator(metricName='logLoss')\n",
        "fpr_0 = tmp.evaluate(result)\n",
        "print(\"Log loss: \"+str(fpr_0))"
      ]
    },
    {
      "cell_type": "code",
      "execution_count": 28,
      "metadata": {
        "colab": {
          "base_uri": "https://localhost:8080/"
        },
        "outputId": "c3fc1d91-6e00-4216-d2f1-795f1ae8d43c",
        "id": "eiG7O0lpIeeG"
      },
      "outputs": [
        {
          "output_type": "stream",
          "name": "stdout",
          "text": [
            "F1 score: 0.03145371092166778\n"
          ]
        }
      ],
      "source": [
        "tmp = MulticlassClassificationEvaluator(metricName='f1')\n",
        "fpr_0 = tmp.evaluate(result)\n",
        "print(\"F1 score: \"+str(fpr_0))"
      ]
    },
    {
      "cell_type": "code",
      "execution_count": 29,
      "metadata": {
        "colab": {
          "base_uri": "https://localhost:8080/"
        },
        "outputId": "a5b13930-47fd-4b48-bf97-1e4876930d9d",
        "id": "8lrGnmvDIeeG"
      },
      "outputs": [
        {
          "output_type": "stream",
          "name": "stdout",
          "text": [
            "Weighted Recall: 0.07813793170598718\n"
          ]
        }
      ],
      "source": [
        "tmp = MulticlassClassificationEvaluator(metricName='weightedRecall')\n",
        "fpr_0 = tmp.evaluate(result)\n",
        "print(\"Weighted Recall: \"+str(fpr_0))"
      ]
    },
    {
      "cell_type": "code",
      "execution_count": 30,
      "metadata": {
        "colab": {
          "base_uri": "https://localhost:8080/"
        },
        "outputId": "c9fb5cab-d65d-4070-c4ac-2a8989cd6967",
        "id": "s9Sya8SwIeeH"
      },
      "outputs": [
        {
          "output_type": "stream",
          "name": "stdout",
          "text": [
            "weightedPrecision: 0.05209223728449882\n"
          ]
        }
      ],
      "source": [
        "tmp = MulticlassClassificationEvaluator(metricName='weightedPrecision')\n",
        "fpr_0 = tmp.evaluate(result)\n",
        "print(\"weightedPrecision: \"+str(fpr_0))"
      ]
    },
    {
      "cell_type": "code",
      "execution_count": 31,
      "metadata": {
        "colab": {
          "base_uri": "https://localhost:8080/"
        },
        "outputId": "b0f4c5fe-f91a-425e-9d90-d45530b964f6",
        "id": "i_ZEl2TpIeeH"
      },
      "outputs": [
        {
          "output_type": "stream",
          "name": "stdout",
          "text": [
            "weightedFMeasure: 0.03145371092166778\n"
          ]
        }
      ],
      "source": [
        "tmp = MulticlassClassificationEvaluator(metricName='weightedFMeasure')\n",
        "fpr_0 = tmp.evaluate(result)\n",
        "print(\"weightedFMeasure: \"+str(fpr_0))"
      ]
    },
    {
      "cell_type": "code",
      "execution_count": 32,
      "metadata": {
        "colab": {
          "base_uri": "https://localhost:8080/"
        },
        "outputId": "40f64ee6-6926-40a7-b0c1-3f1ee019b159",
        "id": "xrAwyoLUIeeI"
      },
      "outputs": [
        {
          "output_type": "stream",
          "name": "stdout",
          "text": [
            "weightedTruePositiveRate: 0.07813793170598718\n"
          ]
        }
      ],
      "source": [
        "tmp = MulticlassClassificationEvaluator(metricName='weightedTruePositiveRate')\n",
        "fpr_0 = tmp.evaluate(result)\n",
        "print(\"weightedTruePositiveRate: \"+str(fpr_0))"
      ]
    },
    {
      "cell_type": "code",
      "execution_count": 33,
      "metadata": {
        "colab": {
          "base_uri": "https://localhost:8080/"
        },
        "outputId": "dc3c4ba8-45cc-47e6-ae6a-be9290916b67",
        "id": "xouc9s8NIeeI"
      },
      "outputs": [
        {
          "output_type": "stream",
          "name": "stdout",
          "text": [
            "weightedFalsePositiveRate: 0.07173076387327393\n"
          ]
        }
      ],
      "source": [
        "tmp = MulticlassClassificationEvaluator(metricName='weightedFalsePositiveRate')\n",
        "fpr_0 = tmp.evaluate(result)\n",
        "print(\"weightedFalsePositiveRate: \"+str(fpr_0))"
      ]
    },
    {
      "cell_type": "code",
      "execution_count": null,
      "metadata": {
        "id": "MOte4nJytZy8"
      },
      "outputs": [],
      "source": [
        ""
      ]
    }
  ],
  "metadata": {
    "colab": {
      "collapsed_sections": [],
      "name": "mlp_bda_00.ipynb",
      "provenance": []
    },
    "kernelspec": {
      "display_name": "Python 3 (ipykernel)",
      "language": "python",
      "name": "python3"
    },
    "language_info": {
      "codemirror_mode": {
        "name": "ipython",
        "version": 3
      },
      "file_extension": ".py",
      "mimetype": "text/x-python",
      "name": "python",
      "nbconvert_exporter": "python",
      "pygments_lexer": "ipython3",
      "version": "3.8.12"
    }
  },
  "nbformat": 4,
  "nbformat_minor": 0
}